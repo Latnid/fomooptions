{
 "cells": [
  {
   "cell_type": "code",
   "execution_count": 15,
   "metadata": {},
   "outputs": [],
   "source": [
    "from DataBase import *\n",
    "import os\n",
    "from dotenv import load_dotenv\n",
    "import psycopg2\n"
   ]
  },
  {
   "cell_type": "code",
   "execution_count": 9,
   "metadata": {},
   "outputs": [
    {
     "name": "stdout",
     "output_type": "stream",
     "text": [
      "DataBase Connected!\n",
      "Version: PostgreSQL 14.5 (Homebrew) on aarch64-apple-darwin22.1.0, compiled by Apple clang version 14.0.0 (clang-1400.0.29.202), 64-bit\n",
      "Data inserted successfully!\n"
     ]
    }
   ],
   "source": [
    "con,cur = connect_data_base()\n",
    "database_rw(operation = 'write', con = con, cur = cur, date = '05-05-2023', types = 'stocks', DTE = 'min')"
   ]
  },
  {
   "cell_type": "code",
   "execution_count": 10,
   "metadata": {},
   "outputs": [
    {
     "data": {
      "text/html": [
       "<div>\n",
       "<style scoped>\n",
       "    .dataframe tbody tr th:only-of-type {\n",
       "        vertical-align: middle;\n",
       "    }\n",
       "\n",
       "    .dataframe tbody tr th {\n",
       "        vertical-align: top;\n",
       "    }\n",
       "\n",
       "    .dataframe thead th {\n",
       "        text-align: right;\n",
       "    }\n",
       "</style>\n",
       "<table border=\"1\" class=\"dataframe\">\n",
       "  <thead>\n",
       "    <tr style=\"text-align: right;\">\n",
       "      <th></th>\n",
       "      <th>Symbol</th>\n",
       "      <th>Price</th>\n",
       "      <th>Type</th>\n",
       "      <th>Strike</th>\n",
       "      <th>Exp Date</th>\n",
       "      <th>DTE</th>\n",
       "      <th>Bid</th>\n",
       "      <th>Midpoint</th>\n",
       "      <th>Ask</th>\n",
       "      <th>Last</th>\n",
       "      <th>Volume</th>\n",
       "      <th>Open Int</th>\n",
       "      <th>OI Chg</th>\n",
       "      <th>IV</th>\n",
       "      <th>Time</th>\n",
       "    </tr>\n",
       "  </thead>\n",
       "  <tbody>\n",
       "    <tr>\n",
       "      <th>0</th>\n",
       "      <td>AA</td>\n",
       "      <td>36.24</td>\n",
       "      <td>Call</td>\n",
       "      <td>31.0</td>\n",
       "      <td>2023-05-05</td>\n",
       "      <td>0.0</td>\n",
       "      <td>5.15</td>\n",
       "      <td>5.2</td>\n",
       "      <td>5.25</td>\n",
       "      <td>4.55</td>\n",
       "      <td>608.0</td>\n",
       "      <td>644.0</td>\n",
       "      <td>0.0</td>\n",
       "      <td>1.6296000000000002</td>\n",
       "      <td>12:36 ET</td>\n",
       "    </tr>\n",
       "    <tr>\n",
       "      <th>1</th>\n",
       "      <td>AA</td>\n",
       "      <td>36.24</td>\n",
       "      <td>Call</td>\n",
       "      <td>36.0</td>\n",
       "      <td>2023-05-05</td>\n",
       "      <td>0.0</td>\n",
       "      <td>0.21</td>\n",
       "      <td>0.25</td>\n",
       "      <td>0.29</td>\n",
       "      <td>0.3</td>\n",
       "      <td>1991.0</td>\n",
       "      <td>585.0</td>\n",
       "      <td>-36.0</td>\n",
       "      <td>0.15</td>\n",
       "      <td>15:09 ET</td>\n",
       "    </tr>\n",
       "    <tr>\n",
       "      <th>2</th>\n",
       "      <td>AAL</td>\n",
       "      <td>13.94</td>\n",
       "      <td>Call</td>\n",
       "      <td>13.5</td>\n",
       "      <td>2023-05-05</td>\n",
       "      <td>0.0</td>\n",
       "      <td>0.39</td>\n",
       "      <td>0.41</td>\n",
       "      <td>0.42</td>\n",
       "      <td>0.37</td>\n",
       "      <td>2102.0</td>\n",
       "      <td>6775.0</td>\n",
       "      <td>1465.0</td>\n",
       "      <td>0.4311</td>\n",
       "      <td>15:20 ET</td>\n",
       "    </tr>\n",
       "    <tr>\n",
       "      <th>3</th>\n",
       "      <td>AAL</td>\n",
       "      <td>13.94</td>\n",
       "      <td>Put</td>\n",
       "      <td>14.0</td>\n",
       "      <td>2023-05-05</td>\n",
       "      <td>0.0</td>\n",
       "      <td>0.1</td>\n",
       "      <td>0.11</td>\n",
       "      <td>0.12</td>\n",
       "      <td>0.11</td>\n",
       "      <td>1130.0</td>\n",
       "      <td>887.0</td>\n",
       "      <td>-120.0</td>\n",
       "      <td>0.1725</td>\n",
       "      <td>15:21 ET</td>\n",
       "    </tr>\n",
       "    <tr>\n",
       "      <th>4</th>\n",
       "      <td>AAPL</td>\n",
       "      <td>174.28</td>\n",
       "      <td>Call</td>\n",
       "      <td>150.0</td>\n",
       "      <td>2023-05-05</td>\n",
       "      <td>0.0</td>\n",
       "      <td>23.5</td>\n",
       "      <td>23.55</td>\n",
       "      <td>23.6</td>\n",
       "      <td>23.35</td>\n",
       "      <td>670.0</td>\n",
       "      <td>2004.0</td>\n",
       "      <td>33.0</td>\n",
       "      <td>0.0</td>\n",
       "      <td>15:20 ET</td>\n",
       "    </tr>\n",
       "  </tbody>\n",
       "</table>\n",
       "</div>"
      ],
      "text/plain": [
       "  Symbol   Price  Type Strike    Exp Date  DTE   Bid Midpoint   Ask   Last  \\\n",
       "0     AA   36.24  Call   31.0  2023-05-05  0.0  5.15      5.2  5.25   4.55   \n",
       "1     AA   36.24  Call   36.0  2023-05-05  0.0  0.21     0.25  0.29    0.3   \n",
       "2    AAL   13.94  Call   13.5  2023-05-05  0.0  0.39     0.41  0.42   0.37   \n",
       "3    AAL   13.94   Put   14.0  2023-05-05  0.0   0.1     0.11  0.12   0.11   \n",
       "4   AAPL  174.28  Call  150.0  2023-05-05  0.0  23.5    23.55  23.6  23.35   \n",
       "\n",
       "   Volume Open Int  OI Chg                  IV      Time  \n",
       "0   608.0    644.0     0.0  1.6296000000000002  12:36 ET  \n",
       "1  1991.0    585.0   -36.0                0.15  15:09 ET  \n",
       "2  2102.0   6775.0  1465.0              0.4311  15:20 ET  \n",
       "3  1130.0    887.0  -120.0              0.1725  15:21 ET  \n",
       "4   670.0   2004.0    33.0                 0.0  15:20 ET  "
      ]
     },
     "execution_count": 10,
     "metadata": {},
     "output_type": "execute_result"
    }
   ],
   "source": [
    "df = database_rw(operation = 'read', con = con, cur = cur, date = '05-05-2023', types = 'stocks', DTE = 'min')\n",
    "df.head()"
   ]
  },
  {
   "cell_type": "code",
   "execution_count": 12,
   "metadata": {},
   "outputs": [],
   "source": [
    "# 显式指定列的数据类型\n",
    "df = df.astype({\n",
    "    \"Symbol\": str,\n",
    "    \"Price\": float,\n",
    "    \"Type\": str,\n",
    "    \"Strike\": float,\n",
    "    \"Exp Date\": str,\n",
    "    \"DTE\": float,\n",
    "    \"Bid\": float,\n",
    "    \"Midpoint\": float,\n",
    "    \"Ask\": float,\n",
    "    \"Last\": float,\n",
    "    \"Volume\": float,\n",
    "    \"Open Int\": float,\n",
    "    \"OI Chg\": float,\n",
    "    \"IV\": float,\n",
    "    \"Time\": str\n",
    "})"
   ]
  },
  {
   "cell_type": "code",
   "execution_count": 13,
   "metadata": {},
   "outputs": [
    {
     "data": {
      "text/plain": [
       "Symbol       object\n",
       "Price       float64\n",
       "Type         object\n",
       "Strike      float64\n",
       "Exp Date     object\n",
       "DTE         float64\n",
       "Bid         float64\n",
       "Midpoint    float64\n",
       "Ask         float64\n",
       "Last        float64\n",
       "Volume      float64\n",
       "Open Int    float64\n",
       "OI Chg      float64\n",
       "IV          float64\n",
       "Time         object\n",
       "dtype: object"
      ]
     },
     "execution_count": 13,
     "metadata": {},
     "output_type": "execute_result"
    }
   ],
   "source": [
    "df.dtypes"
   ]
  },
  {
   "cell_type": "code",
   "execution_count": 2,
   "metadata": {},
   "outputs": [
    {
     "data": {
      "text/plain": [
       "datetime.datetime(2023, 5, 30, 17, 8, 32, 21681)"
      ]
     },
     "execution_count": 2,
     "metadata": {},
     "output_type": "execute_result"
    }
   ],
   "source": [
    "from datetime import datetime\n",
    "datetime.now()"
   ]
  },
  {
   "cell_type": "code",
   "execution_count": 16,
   "metadata": {},
   "outputs": [
    {
     "ename": "NameError",
     "evalue": "name '__file__' is not defined",
     "output_type": "error",
     "traceback": [
      "\u001b[0;31m---------------------------------------------------------------------------\u001b[0m",
      "\u001b[0;31mNameError\u001b[0m                                 Traceback (most recent call last)",
      "\u001b[0;32m/var/folders/_f/j_14t_bj18vf6gn7f7zgmbkw0000gn/T/ipykernel_44344/2041745873.py\u001b[0m in \u001b[0;36m<module>\u001b[0;34m\u001b[0m\n\u001b[1;32m     22\u001b[0m \u001b[0;34m\u001b[0m\u001b[0m\n\u001b[1;32m     23\u001b[0m \u001b[0;31m# Specify the directory path\u001b[0m\u001b[0;34m\u001b[0m\u001b[0;34m\u001b[0m\u001b[0;34m\u001b[0m\u001b[0m\n\u001b[0;32m---> 24\u001b[0;31m \u001b[0mdirectory\u001b[0m \u001b[0;34m=\u001b[0m \u001b[0mos\u001b[0m\u001b[0;34m.\u001b[0m\u001b[0mpath\u001b[0m\u001b[0;34m.\u001b[0m\u001b[0mjoin\u001b[0m\u001b[0;34m(\u001b[0m\u001b[0mos\u001b[0m\u001b[0;34m.\u001b[0m\u001b[0mpath\u001b[0m\u001b[0;34m.\u001b[0m\u001b[0mdirname\u001b[0m\u001b[0;34m(\u001b[0m\u001b[0m__file__\u001b[0m\u001b[0;34m)\u001b[0m\u001b[0;34m,\u001b[0m \u001b[0;34m\"../Data/Increase/\"\u001b[0m\u001b[0;34m)\u001b[0m\u001b[0;34m\u001b[0m\u001b[0;34m\u001b[0m\u001b[0m\n\u001b[0m\u001b[1;32m     25\u001b[0m \u001b[0;34m\u001b[0m\u001b[0m\n\u001b[1;32m     26\u001b[0m \u001b[0;31m# Call the function and retrieve the date and modification time\u001b[0m\u001b[0;34m\u001b[0m\u001b[0;34m\u001b[0m\u001b[0;34m\u001b[0m\u001b[0m\n",
      "\u001b[0;31mNameError\u001b[0m: name '__file__' is not defined"
     ]
    }
   ],
   "source": [
    "# 写入数据库过程\n",
    "#定义一个函数获取csv的文件日期部分和csv的修改时间。\n",
    "def get_latest_csv_info(directory):\n",
    "    # Get a list of CSV filenames in the directory\n",
    "    csv_files = [filename for filename in os.listdir(directory) if filename.endswith(\".csv\")]\n",
    "\n",
    "    # Sort the list of files by modification time (newest first)\n",
    "    csv_files.sort(key=lambda filename: os.path.getmtime(os.path.join(directory, filename)), reverse=True)\n",
    "\n",
    "    # Retrieve the latest CSV filename and extract the date\n",
    "    if csv_files:\n",
    "        latest_csv = csv_files[0]\n",
    "        date = latest_csv.split(\"-\")[-3].replace(\".csv\", \"\")\n",
    "\n",
    "        # Get the file modification time\n",
    "        file_path = os.path.join(directory, latest_csv)\n",
    "        modification_time = os.path.getmtime(file_path)\n",
    "\n",
    "        return date, modification_time\n",
    "    else:\n",
    "        return None, None\n",
    "\n",
    "# Specify the directory path\n",
    "directory = os.path.join(os.path.dirname(__file__), \"../Data/Increase/\")\n",
    "\n",
    "# Call the function and retrieve the date and modification time\n",
    "date, modification_time = get_latest_csv_info(directory)\n",
    "\n",
    "#连接数据库进行数据写入\n",
    "con, cur = connect_data_base()\n",
    "types_list = ['stocks', 'etfs']\n",
    "for types in types_list:\n",
    "    database_rw(operation='write', con=con, cur=cur, date=date, types=types, DTE='max')"
   ]
  }
 ],
 "metadata": {
  "kernelspec": {
   "display_name": "FinTech",
   "language": "python",
   "name": "fintech"
  },
  "language_info": {
   "codemirror_mode": {
    "name": "ipython",
    "version": 3
   },
   "file_extension": ".py",
   "mimetype": "text/x-python",
   "name": "python",
   "nbconvert_exporter": "python",
   "pygments_lexer": "ipython3",
   "version": "3.7.13"
  },
  "orig_nbformat": 4
 },
 "nbformat": 4,
 "nbformat_minor": 2
}
